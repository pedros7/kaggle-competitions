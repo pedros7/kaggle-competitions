{
  "metadata": {
    "kernelspec": {
      "display_name": "Python 3",
      "language": "python",
      "name": "python3"
    },
    "language_info": {
      "name": "python",
      "version": "3.10.14",
      "mimetype": "text/x-python",
      "codemirror_mode": {
        "name": "ipython",
        "version": 3
      },
      "pygments_lexer": "ipython3",
      "nbconvert_exporter": "python",
      "file_extension": ".py"
    },
    "kaggle": {
      "accelerator": "none",
      "dataSources": [
        {
          "sourceId": 3136,
          "databundleVersionId": 26502,
          "sourceType": "competition"
        }
      ],
      "dockerImageVersionId": 30786,
      "isInternetEnabled": false,
      "language": "python",
      "sourceType": "notebook",
      "isGpuEnabled": false
    },
    "colab": {
      "name": "First_try",
      "provenance": []
    }
  },
  "nbformat_minor": 0,
  "nbformat": 4,
  "cells": [
    {
      "source": [
        "# IMPORTANT: SOME KAGGLE DATA SOURCES ARE PRIVATE\n",
        "# RUN THIS CELL IN ORDER TO IMPORT YOUR KAGGLE DATA SOURCES.\n",
        "import kagglehub\n",
        "kagglehub.login()\n"
      ],
      "metadata": {
        "id": "vi8yPp5DoPXv"
      },
      "cell_type": "code",
      "outputs": [],
      "execution_count": null
    },
    {
      "source": [
        "# IMPORTANT: RUN THIS CELL IN ORDER TO IMPORT YOUR KAGGLE DATA SOURCES,\n",
        "# THEN FEEL FREE TO DELETE THIS CELL.\n",
        "# NOTE: THIS NOTEBOOK ENVIRONMENT DIFFERS FROM KAGGLE'S PYTHON\n",
        "# ENVIRONMENT SO THERE MAY BE MISSING LIBRARIES USED BY YOUR\n",
        "# NOTEBOOK.\n",
        "\n",
        "titanic_path = kagglehub.competition_download('titanic')\n",
        "\n",
        "print('Data source import complete.')\n"
      ],
      "metadata": {
        "id": "MuxnT6LxoPXw"
      },
      "cell_type": "code",
      "outputs": [],
      "execution_count": null
    },
    {
      "cell_type": "code",
      "source": [
        "import numpy as np # linear algebra\n",
        "import pandas as pd # data processing, CSV file I/O (e.g. pd.read_csv)\n",
        "# My imports\n",
        "import tensorflow as tf\n",
        "import keras\n",
        "from keras.models import Sequential\n",
        "from keras.layers import Dense\n",
        "from keras.layers import Input\n",
        "from sklearn.preprocessing import MinMaxScaler\n",
        "\n",
        "import os\n",
        "for dirname, _, filenames in os.walk('/kaggle/input'):\n",
        "    for filename in filenames:\n",
        "        print(os.path.join(dirname, filename))"
      ],
      "metadata": {
        "_cell_guid": "b1076dfc-b9ad-4769-8c92-a6c4dae69d19",
        "_uuid": "8f2839f25d086af736a60e9eeb907d3b93b6e0e5",
        "execution": {
          "iopub.status.busy": "2024-11-26T13:18:54.54168Z",
          "iopub.execute_input": "2024-11-26T13:18:54.542068Z",
          "iopub.status.idle": "2024-11-26T13:18:54.55121Z",
          "shell.execute_reply.started": "2024-11-26T13:18:54.542036Z",
          "shell.execute_reply": "2024-11-26T13:18:54.550054Z"
        },
        "trusted": true,
        "id": "3DfT2WT8oPXw"
      },
      "outputs": [],
      "execution_count": null
    },
    {
      "cell_type": "markdown",
      "source": [
        "Okay, I'll leave the first mandatory block already pre installed with kaggle as it was, and from now on, my contribution to the problem begins."
      ],
      "metadata": {
        "id": "nnismVBRoPXw"
      }
    },
    {
      "cell_type": "markdown",
      "source": [
        "# Section 0 : Data acquisition, validation and preprocessing"
      ],
      "metadata": {
        "id": "JyTMx7QboPXx"
      }
    },
    {
      "cell_type": "code",
      "source": [
        "train_data = pd.read_csv('/kaggle/input/titanic/train.csv')\n",
        "test_data = pd.read_csv('/kaggle/input/titanic/test.csv')"
      ],
      "metadata": {
        "execution": {
          "iopub.status.busy": "2024-11-26T13:18:54.553295Z",
          "iopub.execute_input": "2024-11-26T13:18:54.553846Z",
          "iopub.status.idle": "2024-11-26T13:18:54.572797Z",
          "shell.execute_reply.started": "2024-11-26T13:18:54.553795Z",
          "shell.execute_reply": "2024-11-26T13:18:54.571628Z"
        },
        "trusted": true,
        "id": "VmKYSCuzoPXx"
      },
      "outputs": [],
      "execution_count": null
    },
    {
      "cell_type": "code",
      "source": [
        "train_data.shape\n",
        "#print(training_data.head())"
      ],
      "metadata": {
        "execution": {
          "iopub.status.busy": "2024-11-26T13:18:54.574856Z",
          "iopub.execute_input": "2024-11-26T13:18:54.575297Z",
          "iopub.status.idle": "2024-11-26T13:18:54.581856Z",
          "shell.execute_reply.started": "2024-11-26T13:18:54.575256Z",
          "shell.execute_reply": "2024-11-26T13:18:54.580617Z"
        },
        "trusted": true,
        "id": "b7z5pJeGoPXx"
      },
      "outputs": [],
      "execution_count": null
    },
    {
      "cell_type": "code",
      "source": [
        "test_data.shape\n",
        "#print(testing_data.head())"
      ],
      "metadata": {
        "execution": {
          "iopub.status.busy": "2024-11-26T13:18:54.584121Z",
          "iopub.execute_input": "2024-11-26T13:18:54.584646Z",
          "iopub.status.idle": "2024-11-26T13:18:54.596021Z",
          "shell.execute_reply.started": "2024-11-26T13:18:54.584594Z",
          "shell.execute_reply": "2024-11-26T13:18:54.594798Z"
        },
        "trusted": true,
        "id": "BCx1sVk4oPXy"
      },
      "outputs": [],
      "execution_count": null
    },
    {
      "cell_type": "code",
      "source": [
        "train_data.isnull().sum();\n",
        "test_data.isnull().sum();"
      ],
      "metadata": {
        "execution": {
          "iopub.status.busy": "2024-11-26T13:18:54.597606Z",
          "iopub.execute_input": "2024-11-26T13:18:54.597946Z",
          "iopub.status.idle": "2024-11-26T13:18:54.612733Z",
          "shell.execute_reply.started": "2024-11-26T13:18:54.597915Z",
          "shell.execute_reply": "2024-11-26T13:18:54.611499Z"
        },
        "trusted": true,
        "id": "WOiEN07JoPXy"
      },
      "outputs": [],
      "execution_count": null
    },
    {
      "cell_type": "markdown",
      "source": [
        "There are a variety of formats in the data, so now I should turn it to a quantitative value in order for the model to be able to understand it. The non-numerical columns are Name, Sex, Ticket, Cabin and Embarked."
      ],
      "metadata": {
        "id": "1-5DkswMoPXy"
      }
    },
    {
      "cell_type": "markdown",
      "source": [
        "**a) The Name Column:**\n",
        "\n",
        "For the name I believe that the title of each person could provide important information. I know the different possible titles thanks to a a little code that gets the different options independently from the output (as long as the format is kept the same)"
      ],
      "metadata": {
        "id": "w48kpjCqoPXy"
      }
    },
    {
      "cell_type": "code",
      "source": [
        "# Extract titles from the \"Name\" column\n",
        "train_data['Name'] = train_data['Name'].str.extract(r',\\s*([^\\.]+)\\.')\n",
        "\n",
        "title_counts = train_data['Name'].value_counts()\n",
        "print(\"Unique Titles with Counts:\")\n",
        "print(title_counts)"
      ],
      "metadata": {
        "trusted": true,
        "execution": {
          "iopub.status.busy": "2024-11-26T13:18:54.614493Z",
          "iopub.execute_input": "2024-11-26T13:18:54.614905Z",
          "iopub.status.idle": "2024-11-26T13:18:54.635305Z",
          "shell.execute_reply.started": "2024-11-26T13:18:54.614869Z",
          "shell.execute_reply": "2024-11-26T13:18:54.633907Z"
        },
        "id": "5O-eGGb7oPXy"
      },
      "outputs": [],
      "execution_count": null
    },
    {
      "cell_type": "markdown",
      "source": [
        "Now, comes the step to rework the values.\n",
        "\n",
        "For the time being, let's propose the following change:\n",
        "* There will be 5 categories: Mr, Mrs, Master, Miss and 'Special'\n",
        "* It will go as simple as this:\n",
        "  * Miss that will include Miss, Mlle, Mme and Ms\n",
        "  * Mr that will include Mr and Sir and\n",
        "  * Mrs that will include Mrs and Lady,\n",
        "  * Master will only be assigned himself\n",
        "  * The rest will all be in a 'Special' category"
      ],
      "metadata": {
        "id": "xxwCRUrGoPXy"
      }
    },
    {
      "cell_type": "markdown",
      "source": [
        "First let's design the function that will do the swapping according to our rules:"
      ],
      "metadata": {
        "id": "1gYSa72uoPXz"
      }
    },
    {
      "cell_type": "code",
      "source": [
        "# Define a function to map titles to the specified categories\n",
        "def categorize_title(title):\n",
        "    if title in ['Miss', 'Mlle', 'Mme', 'Ms']:\n",
        "        return 'Miss'\n",
        "    elif title in ['Mr', 'Sir']:\n",
        "        return 'Mr'\n",
        "    elif title in ['Mrs', 'Lady']:\n",
        "        return 'Mrs'\n",
        "    elif title == 'Master':\n",
        "        return 'Master'\n",
        "    else:\n",
        "        return 'Special'"
      ],
      "metadata": {
        "trusted": true,
        "execution": {
          "iopub.status.busy": "2024-11-26T13:18:54.636662Z",
          "iopub.execute_input": "2024-11-26T13:18:54.637022Z",
          "iopub.status.idle": "2024-11-26T13:18:54.654097Z",
          "shell.execute_reply.started": "2024-11-26T13:18:54.636987Z",
          "shell.execute_reply": "2024-11-26T13:18:54.652645Z"
        },
        "id": "fmnbpFchoPXz"
      },
      "outputs": [],
      "execution_count": null
    },
    {
      "cell_type": "code",
      "source": [
        "train_data['Name'] = train_data['Name'].apply(categorize_title)\n",
        "\n",
        "# Map title categories to numerical values\n",
        "title_mapping = {'Mr': 1, 'Mrs': 2, 'Master': 3, 'Miss': 4, 'Special': 5}\n",
        "train_data['Name'] = train_data['Name'].map(title_mapping)"
      ],
      "metadata": {
        "trusted": true,
        "execution": {
          "iopub.status.busy": "2024-11-26T13:18:54.656686Z",
          "iopub.execute_input": "2024-11-26T13:18:54.657106Z",
          "iopub.status.idle": "2024-11-26T13:18:54.670811Z",
          "shell.execute_reply.started": "2024-11-26T13:18:54.657066Z",
          "shell.execute_reply": "2024-11-26T13:18:54.669717Z"
        },
        "id": "isqd6mQkoPXz"
      },
      "outputs": [],
      "execution_count": null
    },
    {
      "cell_type": "code",
      "source": [
        "train_data.head()"
      ],
      "metadata": {
        "trusted": true,
        "execution": {
          "iopub.status.busy": "2024-11-26T13:18:54.672611Z",
          "iopub.execute_input": "2024-11-26T13:18:54.673489Z",
          "iopub.status.idle": "2024-11-26T13:18:54.696032Z",
          "shell.execute_reply.started": "2024-11-26T13:18:54.673431Z",
          "shell.execute_reply": "2024-11-26T13:18:54.694889Z"
        },
        "id": "HS_PX4_LoPXz"
      },
      "outputs": [],
      "execution_count": null
    },
    {
      "cell_type": "markdown",
      "source": [
        "**b) The Sex column**\n",
        "\n",
        "Here the change is a whole lot more straightforward to apply, male will be 0 and female will be 1"
      ],
      "metadata": {
        "id": "YxYu5HNsoPXz"
      }
    },
    {
      "cell_type": "code",
      "source": [
        "# Map title categories to numerical values\n",
        "sex_mapping = {'male': 0, 'female': 1, '': 2}\n",
        "train_data['Sex'] = train_data['Sex'].map(sex_mapping)"
      ],
      "metadata": {
        "trusted": true,
        "execution": {
          "iopub.status.busy": "2024-11-26T13:18:54.697361Z",
          "iopub.execute_input": "2024-11-26T13:18:54.697711Z",
          "iopub.status.idle": "2024-11-26T13:18:54.711337Z",
          "shell.execute_reply.started": "2024-11-26T13:18:54.697678Z",
          "shell.execute_reply": "2024-11-26T13:18:54.710121Z"
        },
        "id": "x-kyChfCoPXz"
      },
      "outputs": [],
      "execution_count": null
    },
    {
      "cell_type": "code",
      "source": [
        "train_data.head()"
      ],
      "metadata": {
        "trusted": true,
        "execution": {
          "iopub.status.busy": "2024-11-26T13:18:54.753788Z",
          "iopub.execute_input": "2024-11-26T13:18:54.754227Z",
          "iopub.status.idle": "2024-11-26T13:18:54.770825Z",
          "shell.execute_reply.started": "2024-11-26T13:18:54.754188Z",
          "shell.execute_reply": "2024-11-26T13:18:54.769628Z"
        },
        "id": "3XcuDG2ZoPXz"
      },
      "outputs": [],
      "execution_count": null
    },
    {
      "cell_type": "markdown",
      "source": [
        "**c) The Age column**\n",
        "\n",
        "In this case what happens is that 177 entries are missing a value, and the model causes problems whenever we lack data. We could implement more advanced solutions, but let's keep it simple for the time being"
      ],
      "metadata": {
        "id": "lo9s-LuWoPXz"
      }
    },
    {
      "cell_type": "code",
      "source": [
        "# Fill missing Age values with the median\n",
        "train_data['Age'] = train_data['Age'].fillna(train_data['Age'].median())"
      ],
      "metadata": {
        "trusted": true,
        "execution": {
          "iopub.status.busy": "2024-11-26T13:18:54.773331Z",
          "iopub.execute_input": "2024-11-26T13:18:54.773841Z",
          "iopub.status.idle": "2024-11-26T13:18:54.781768Z",
          "shell.execute_reply.started": "2024-11-26T13:18:54.773789Z",
          "shell.execute_reply": "2024-11-26T13:18:54.780672Z"
        },
        "id": "8JYqaWpZoPX0"
      },
      "outputs": [],
      "execution_count": null
    },
    {
      "cell_type": "markdown",
      "source": [
        "**d) The Ticket column**\n",
        "\n",
        "Here come again the complications, because the ticket denomination is not as straight as the other parameters."
      ],
      "metadata": {
        "id": "nVhLK_xHoPX0"
      }
    },
    {
      "cell_type": "markdown",
      "source": [],
      "metadata": {
        "id": "7dLNiwV6oPX0"
      }
    },
    {
      "cell_type": "markdown",
      "source": [
        "We could treat it the same way as with the title column, firstly obtaining the possible prefixes (being aware of possible hyphons)"
      ],
      "metadata": {
        "id": "YjH076yBoPX0"
      }
    },
    {
      "cell_type": "code",
      "source": [
        "# Extract prefixes from the \"Ticket\" column\n",
        "train_data['Ticket'] = (\n",
        "    train_data['Ticket']\n",
        "    .str.extract(r\"^([^\\d]*)\")[0]  # Extract prefix\n",
        "    .fillna('')                   # Handle missing prefixes\n",
        "    .str.replace(r\"[^\\w\\s]\", \"\", regex=True)  # Remove punctuation\n",
        "    .str.strip()                  # Strip extra whitespace\n",
        "    .str.upper()                  # Converts all to higher case\n",
        ")\n",
        "\n",
        "ticket_counts = train_data['Ticket'].value_counts()\n",
        "print(\"Unique Ticket prefixes with Counts:\")\n",
        "print(ticket_counts)"
      ],
      "metadata": {
        "trusted": true,
        "execution": {
          "iopub.status.busy": "2024-11-26T13:18:54.783224Z",
          "iopub.execute_input": "2024-11-26T13:18:54.783661Z",
          "iopub.status.idle": "2024-11-26T13:18:54.802323Z",
          "shell.execute_reply.started": "2024-11-26T13:18:54.783625Z",
          "shell.execute_reply": "2024-11-26T13:18:54.801226Z"
        },
        "id": "UKgGPysYoPX0"
      },
      "outputs": [],
      "execution_count": null
    },
    {
      "cell_type": "markdown",
      "source": [
        "A quick internet search helps us to understand their meaning and their 'social class' affiliation\n",
        "* **Wealthy First-Class Passengers:**\n",
        "Often have prefixes like PC or SC.\n",
        "* **Third-Class Emigrants:**\n",
        "Typically have prefixes like A/5, STON/O, or CA.\n",
        "* **Group Tickets:**\n",
        "Shared prefixes might indicate families or groups traveling together."
      ],
      "metadata": {
        "id": "XwJwO82zoPX0"
      }
    },
    {
      "cell_type": "code",
      "source": [
        "# Define a function to map ticket prefixes to the specified categories\n",
        "def categorize_ticket(prefix):\n",
        "    if prefix in ['PC', 'SCPARIS', 'WEP']:\n",
        "        return 'First'\n",
        "    elif prefix in ['SOC', 'SCA', 'CASOTON']:\n",
        "        return 'Second'\n",
        "    elif prefix in ['A', 'STONO', 'AS', 'CA', 'SOTONO', 'SOTONOQ', 'WC']:\n",
        "        return 'Third'\n",
        "    elif prefix in ['LINE' , 'FCC', 'FC']:\n",
        "        return 'Crew'\n",
        "    elif prefix == '':\n",
        "        return 'Numbered'\n",
        "    else:\n",
        "        return 'Else'"
      ],
      "metadata": {
        "trusted": true,
        "execution": {
          "iopub.status.busy": "2024-11-26T13:18:54.804117Z",
          "iopub.execute_input": "2024-11-26T13:18:54.804646Z",
          "iopub.status.idle": "2024-11-26T13:18:54.818558Z",
          "shell.execute_reply.started": "2024-11-26T13:18:54.804591Z",
          "shell.execute_reply": "2024-11-26T13:18:54.817313Z"
        },
        "id": "fkLNsbEuoPX0"
      },
      "outputs": [],
      "execution_count": null
    },
    {
      "cell_type": "code",
      "source": [
        "train_data['Ticket'] = train_data['Ticket'].apply(categorize_ticket)\n",
        "\n",
        "# Map title categories to numerical values\n",
        "ticket_mapping = {'First': 1, 'Second': 2, 'Third': 3, 'Crew': 4, 'Numbered': 5, 'Else': 6}\n",
        "train_data['Ticket'] = train_data['Ticket'].map(ticket_mapping)"
      ],
      "metadata": {
        "trusted": true,
        "execution": {
          "iopub.status.busy": "2024-11-26T13:18:54.821015Z",
          "iopub.execute_input": "2024-11-26T13:18:54.821382Z",
          "iopub.status.idle": "2024-11-26T13:18:54.840439Z",
          "shell.execute_reply.started": "2024-11-26T13:18:54.821349Z",
          "shell.execute_reply": "2024-11-26T13:18:54.839227Z"
        },
        "id": "6pmXbTg5oPX0"
      },
      "outputs": [],
      "execution_count": null
    },
    {
      "cell_type": "code",
      "source": [
        "train_data.head()"
      ],
      "metadata": {
        "trusted": true,
        "execution": {
          "iopub.status.busy": "2024-11-26T13:18:54.841984Z",
          "iopub.execute_input": "2024-11-26T13:18:54.84248Z",
          "iopub.status.idle": "2024-11-26T13:18:54.864838Z",
          "shell.execute_reply.started": "2024-11-26T13:18:54.842428Z",
          "shell.execute_reply": "2024-11-26T13:18:54.863636Z"
        },
        "id": "S3PmYzYMoPX1"
      },
      "outputs": [],
      "execution_count": null
    },
    {
      "cell_type": "markdown",
      "source": [
        "**e) The Cabin column**\n",
        "\n",
        "Similar to the ticket, we'll need some regular expression to filter the different values and then assign them to a Descriptor."
      ],
      "metadata": {
        "id": "LsJ4mWIToPX1"
      }
    },
    {
      "cell_type": "code",
      "source": [
        "# Extract prefixes from the \"Cabin\" column\n",
        "train_data['Cabin'] = train_data['Cabin'].str.extract(r\"^([A-Za-z])\")\n",
        "\n",
        "cabin_counts = train_data['Cabin'].value_counts()\n",
        "print(\"Unique Cabin letters with Counts:\")\n",
        "print(cabin_counts)"
      ],
      "metadata": {
        "trusted": true,
        "execution": {
          "iopub.status.busy": "2024-11-26T13:18:54.866369Z",
          "iopub.execute_input": "2024-11-26T13:18:54.866823Z",
          "iopub.status.idle": "2024-11-26T13:18:54.881681Z",
          "shell.execute_reply.started": "2024-11-26T13:18:54.866774Z",
          "shell.execute_reply": "2024-11-26T13:18:54.88045Z"
        },
        "id": "ElD26NeGoPX1"
      },
      "outputs": [],
      "execution_count": null
    },
    {
      "cell_type": "code",
      "source": [
        "# Define a function to map cabin letters to the specified categories\n",
        "def categorize_cabin(cabin):\n",
        "    if cabin in ['A', 'B', 'C']:\n",
        "        return 'First'\n",
        "    elif cabin in ['D']:\n",
        "        return 'Second'\n",
        "    elif cabin in ['E', 'F']:\n",
        "        return 'Third'\n",
        "    elif cabin == '':\n",
        "        return 'None'\n",
        "    else:\n",
        "        return 'Else'"
      ],
      "metadata": {
        "trusted": true,
        "execution": {
          "iopub.status.busy": "2024-11-26T13:18:54.883054Z",
          "iopub.execute_input": "2024-11-26T13:18:54.883413Z",
          "iopub.status.idle": "2024-11-26T13:18:54.894592Z",
          "shell.execute_reply.started": "2024-11-26T13:18:54.883379Z",
          "shell.execute_reply": "2024-11-26T13:18:54.893211Z"
        },
        "id": "Dtxpk5fxoPX1"
      },
      "outputs": [],
      "execution_count": null
    },
    {
      "cell_type": "code",
      "source": [
        "train_data['Cabin'] = train_data['Cabin'].apply(categorize_cabin)\n",
        "\n",
        "# Map title categories to numerical values\n",
        "cabin_mapping = {'First': 1, 'Second': 2, 'Third': 3, 'None': 4, 'Else': 5}\n",
        "train_data['Cabin'] = train_data['Cabin'].map(cabin_mapping)"
      ],
      "metadata": {
        "trusted": true,
        "execution": {
          "iopub.status.busy": "2024-11-26T13:18:54.896344Z",
          "iopub.execute_input": "2024-11-26T13:18:54.896871Z",
          "iopub.status.idle": "2024-11-26T13:18:54.908644Z",
          "shell.execute_reply.started": "2024-11-26T13:18:54.896833Z",
          "shell.execute_reply": "2024-11-26T13:18:54.907351Z"
        },
        "id": "W_ddb_91oPX1"
      },
      "outputs": [],
      "execution_count": null
    },
    {
      "cell_type": "code",
      "source": [
        "train_data.head()"
      ],
      "metadata": {
        "trusted": true,
        "execution": {
          "iopub.status.busy": "2024-11-26T13:18:54.910108Z",
          "iopub.execute_input": "2024-11-26T13:18:54.910579Z",
          "iopub.status.idle": "2024-11-26T13:18:54.933104Z",
          "shell.execute_reply.started": "2024-11-26T13:18:54.910501Z",
          "shell.execute_reply": "2024-11-26T13:18:54.931952Z"
        },
        "id": "8pq6XGMuoPX1"
      },
      "outputs": [],
      "execution_count": null
    },
    {
      "cell_type": "markdown",
      "source": [
        "**f) The Embark column**\n",
        "\n",
        "A lot easier to rework, just differentiate between the 3 possible options"
      ],
      "metadata": {
        "id": "4HSdK_-toPX1"
      }
    },
    {
      "cell_type": "code",
      "source": [
        "embark_mapping = {'C': 1, 'Q': 2, 'S': 3}\n",
        "train_data['Embarked'] = train_data['Embarked'].map(embark_mapping)\n",
        "train_data = train_data.dropna(subset=['Embarked'])"
      ],
      "metadata": {
        "trusted": true,
        "execution": {
          "iopub.status.busy": "2024-11-26T13:18:54.934612Z",
          "iopub.execute_input": "2024-11-26T13:18:54.935068Z",
          "iopub.status.idle": "2024-11-26T13:18:54.94772Z",
          "shell.execute_reply.started": "2024-11-26T13:18:54.935018Z",
          "shell.execute_reply": "2024-11-26T13:18:54.946495Z"
        },
        "id": "l6Vlex0SoPX1"
      },
      "outputs": [],
      "execution_count": null
    },
    {
      "cell_type": "code",
      "source": [
        "train_data.head()"
      ],
      "metadata": {
        "trusted": true,
        "execution": {
          "iopub.status.busy": "2024-11-26T13:18:54.94927Z",
          "iopub.execute_input": "2024-11-26T13:18:54.949763Z",
          "iopub.status.idle": "2024-11-26T13:18:54.970101Z",
          "shell.execute_reply.started": "2024-11-26T13:18:54.949712Z",
          "shell.execute_reply": "2024-11-26T13:18:54.968609Z"
        },
        "id": "CWueOGw2oPX1"
      },
      "outputs": [],
      "execution_count": null
    },
    {
      "cell_type": "markdown",
      "source": [
        "# Section 0.5 Normalization"
      ],
      "metadata": {
        "id": "ZnX_w1OFoPX1"
      }
    },
    {
      "cell_type": "markdown",
      "source": [
        "To avoid that certain values during the calculus get overblown, let's import an scaler to normalize the whole dataset"
      ],
      "metadata": {
        "id": "cCLH3UM0oPX5"
      }
    },
    {
      "cell_type": "code",
      "source": [
        "# Initialize the scaler\n",
        "scaler = MinMaxScaler()\n",
        "\n",
        "# Normalize predictors\n",
        "predictors = pd.DataFrame(scaler.fit_transform(train_data.drop(columns=['Survived'])), columns=train_data.drop(columns=['Survived']).columns)\n",
        "target = train_data['Survived']\n",
        "\n",
        "n_cols = predictors.shape[1]"
      ],
      "metadata": {
        "trusted": true,
        "execution": {
          "iopub.status.busy": "2024-11-26T13:18:54.971723Z",
          "iopub.execute_input": "2024-11-26T13:18:54.972121Z",
          "iopub.status.idle": "2024-11-26T13:18:54.994824Z",
          "shell.execute_reply.started": "2024-11-26T13:18:54.972084Z",
          "shell.execute_reply": "2024-11-26T13:18:54.993623Z"
        },
        "id": "sIZ642VcoPX5"
      },
      "outputs": [],
      "execution_count": null
    },
    {
      "cell_type": "markdown",
      "source": [
        "Let's check if everything is up to par and we can go on with the model"
      ],
      "metadata": {
        "id": "BPIfiUbIoPX5"
      }
    },
    {
      "cell_type": "code",
      "source": [
        "print(predictors.isnull().sum())\n",
        "print(target.isnull().sum())"
      ],
      "metadata": {
        "trusted": true,
        "execution": {
          "iopub.status.busy": "2024-11-26T13:18:54.998976Z",
          "iopub.execute_input": "2024-11-26T13:18:54.999488Z",
          "iopub.status.idle": "2024-11-26T13:18:55.019123Z",
          "shell.execute_reply.started": "2024-11-26T13:18:54.999448Z",
          "shell.execute_reply": "2024-11-26T13:18:55.017925Z"
        },
        "id": "syj32YCYoPX5"
      },
      "outputs": [],
      "execution_count": null
    },
    {
      "cell_type": "markdown",
      "source": [
        "# Section 1 : Lineal Regression"
      ],
      "metadata": {
        "id": "bHgMRxYZoPX5"
      }
    },
    {
      "cell_type": "code",
      "source": [
        "# define regression model\n",
        "def regression_model(units):\n",
        "    # create model\n",
        "    model = Sequential([\n",
        "        Input(shape=(n_cols,)),\n",
        "        Dense(units,activation='relu'),\n",
        "        Dense(1, activation='sigmoid')\n",
        "    ])\n",
        "\n",
        "    # compile model\n",
        "    optimizer = tf.keras.optimizers.Adam(learning_rate=0.001, clipvalue=1.0)\n",
        "    model.compile(optimizer=optimizer, loss='binary_crossentropy')\n",
        "    return model"
      ],
      "metadata": {
        "trusted": true,
        "execution": {
          "iopub.status.busy": "2024-11-26T13:18:55.020757Z",
          "iopub.execute_input": "2024-11-26T13:18:55.021228Z",
          "iopub.status.idle": "2024-11-26T13:18:55.035345Z",
          "shell.execute_reply.started": "2024-11-26T13:18:55.021176Z",
          "shell.execute_reply": "2024-11-26T13:18:55.033903Z"
        },
        "id": "o8QlNyAKoPX5"
      },
      "outputs": [],
      "execution_count": null
    },
    {
      "cell_type": "code",
      "source": [
        "#build the model\n",
        "model_r = regression_model(100)"
      ],
      "metadata": {
        "trusted": true,
        "execution": {
          "iopub.status.busy": "2024-11-26T13:18:55.036851Z",
          "iopub.execute_input": "2024-11-26T13:18:55.037295Z",
          "iopub.status.idle": "2024-11-26T13:18:55.0767Z",
          "shell.execute_reply.started": "2024-11-26T13:18:55.037259Z",
          "shell.execute_reply": "2024-11-26T13:18:55.075503Z"
        },
        "id": "rcApOILuoPX5"
      },
      "outputs": [],
      "execution_count": null
    },
    {
      "cell_type": "code",
      "source": [
        "history_r = model_r.fit(\n",
        "    predictors, target,         # Training data\n",
        "    validation_split=0.15,       # Use 15% of the training data for validation\n",
        "    epochs=50,                  # Number of training epochs\n",
        "    batch_size=32              # Number of samples per gradient update\n",
        "    #verbose=0                   # Display progress\n",
        ")"
      ],
      "metadata": {
        "trusted": true,
        "execution": {
          "iopub.status.busy": "2024-11-26T13:18:55.078429Z",
          "iopub.execute_input": "2024-11-26T13:18:55.078926Z",
          "iopub.status.idle": "2024-11-26T13:19:00.739824Z",
          "shell.execute_reply.started": "2024-11-26T13:18:55.078875Z",
          "shell.execute_reply": "2024-11-26T13:19:00.738639Z"
        },
        "id": "sUJFskyeoPX6"
      },
      "outputs": [],
      "execution_count": null
    }
  ]
}